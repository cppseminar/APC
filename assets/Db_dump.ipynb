{
 "cells": [
  {
   "cell_type": "code",
   "execution_count": null,
   "metadata": {},
   "outputs": [],
   "source": [
    "CONNECTION_STRING = \"mongodb://\""
   ]
  },
  {
   "cell_type": "code",
   "execution_count": null,
   "metadata": {},
   "outputs": [],
   "source": [
    "import os\n",
    "import sys\n",
    "from pathlib import Path\n",
    "\n",
    "import pymongo\n",
    "from bson import ObjectId\n",
    "import pandas\n",
    "\n",
    "# Let's add our parent to path, so we can easily import our functions\n",
    "sys.path.append(str(Path(os.getcwd()).parent))\n",
    "\n",
    "from functions.shared import mongo, common\n",
    "\n",
    "def show_collection(collection):\n",
    "    \"\"\"Show collection cursor in pandas.\"\"\"\n",
    "    return pandas.DataFrame.from_dict(iter(collection), orient='columns', dtype=None, columns=None)"
   ]
  },
  {
   "cell_type": "code",
   "execution_count": null,
   "metadata": {},
   "outputs": [],
   "source": [
    "if os.environ.get(common.ENV_CONNECTION_STRING, None) is None:\n",
    "    os.environ[common.ENV_CONNECTION_STRING] = CONNECTION_STRING\n",
    "\n"
   ]
  },
  {
   "cell_type": "markdown",
   "metadata": {},
   "source": [
    "## Users\n",
    "List all users"
   ]
  },
  {
   "cell_type": "code",
   "execution_count": null,
   "metadata": {},
   "outputs": [],
   "source": [
    "collection = mongo.get_client().get_users()\n",
    "show_collection(collection.find({}))"
   ]
  },
  {
   "cell_type": "code",
   "execution_count": null,
   "metadata": {},
   "outputs": [],
   "source": [
    "# Index"
   ]
  },
  {
   "cell_type": "code",
   "execution_count": null,
   "metadata": {},
   "outputs": [],
   "source": [
    "#collection = mongo.MongoUsers().create_user('email@example.com', 'student2020')\n",
    "print(collection)"
   ]
  },
  {
   "cell_type": "code",
   "execution_count": null,
   "metadata": {},
   "outputs": [],
   "source": [
    "print(users)"
   ]
  },
  {
   "cell_type": "code",
   "execution_count": null,
   "metadata": {},
   "outputs": [],
   "source": [
    "for user in users:\n",
    "    assert mongo.MongoUsers().create_user(user, 'student2020')"
   ]
  },
  {
   "cell_type": "code",
   "execution_count": null,
   "metadata": {},
   "outputs": [],
   "source": [
    "raise Exception(\"Don't continue\")"
   ]
  },
  {
   "cell_type": "code",
   "execution_count": null,
   "metadata": {},
   "outputs": [],
   "source": [
    "# Test runs are often listed, so we must index by user and then by date\n",
    "# There may be filtering based on task_id or submission_id, but I hope, it won't slow down much\n",
    "collection = mongo.get_client().get_tests()\n",
    "result = collection.create_index([\n",
    "        (common.COL_TESTS_USER, 1),\n",
    "        (common.COL_TESTS_REQUESTED, -1)\n",
    "    ])\n",
    "print(result)"
   ]
  },
  {
   "cell_type": "code",
   "execution_count": null,
   "metadata": {},
   "outputs": [],
   "source": [
    "# Basic index for submissions, it should be reworked later\n",
    "collection = mongo.get_client().get_submissions()\n",
    "result = collection.create_index([  (\"date\", -1)  ])\n",
    "\n",
    "print(result)"
   ]
  }
 ],
 "metadata": {
  "kernelspec": {
   "display_name": "Python 3",
   "language": "python",
   "name": "python3"
  },
  "language_info": {
   "codemirror_mode": {
    "name": "ipython",
    "version": 3
   },
   "file_extension": ".py",
   "mimetype": "text/x-python",
   "name": "python",
   "nbconvert_exporter": "python",
   "pygments_lexer": "ipython3",
   "version": "3.8.0"
  }
 },
 "nbformat": 4,
 "nbformat_minor": 4
}
